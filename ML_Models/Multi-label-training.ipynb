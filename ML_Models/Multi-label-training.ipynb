{
 "cells": [
  {
   "cell_type": "code",
   "execution_count": null,
   "id": "ff1c92a1-08b7-4da2-bb8f-f917d020fbd4",
   "metadata": {},
   "outputs": [
    {
     "name": "stdout",
     "output_type": "stream",
     "text": [
      "✅ Model training complete. Saved as 'xgboost_model.pkl'\n",
      "Accuracy Score: 0.9944116733933561\n",
      "F1 Score (Micro): 0.9971409969711552\n",
      "Classification Report:\n",
      "              precision    recall  f1-score   support\n",
      "\n",
      "         AWS       1.00      1.00      1.00      6223\n",
      "       Azure       1.00      0.99      1.00      3978\n",
      "         GCP       1.00      1.00      1.00      2174\n",
      "      Docker       1.00      1.00      1.00      2102\n",
      "  Kubernetes       1.00      0.99      0.99       767\n",
      "   Terraform       1.00      1.00      1.00      1433\n",
      "      DevOps       1.00      0.99      1.00      1026\n",
      "\n",
      "   micro avg       1.00      0.99      1.00     17703\n",
      "   macro avg       1.00      0.99      1.00     17703\n",
      "weighted avg       1.00      0.99      1.00     17703\n",
      " samples avg       1.00      1.00      1.00     17703\n",
      "\n"
     ]
    }
   ],
   "source": [
    "import pandas as pd\n",
    "import numpy as np\n",
    "import xgboost as xgb\n",
    "from sklearn.model_selection import train_test_split\n",
    "from sklearn.preprocessing import LabelEncoder\n",
    "from sklearn.feature_extraction.text import TfidfVectorizer\n",
    "from sklearn.multioutput import MultiOutputClassifier\n",
    "from sklearn.metrics import classification_report\n",
    "import joblib\n",
    "\n",
    "# Load dataset\n",
    "df = pd.read_csv(\"github_repos_filtered.csv\")\n",
    "\n",
    "# Convert 'created_at' to datetime format\n",
    "df['created_at'] = pd.to_datetime(df['created_at'], format='mixed', errors='coerce')\n",
    "\n",
    "# Drop unnecessary columns\n",
    "df.drop(columns=['id', 'name', 'full_name', 'html_url', 'created_at'], inplace=True)\n",
    "\n",
    "# Encode 'language'\n",
    "language_encoder = LabelEncoder()\n",
    "df['language'] = language_encoder.fit_transform(df['language'].astype(str))\n",
    "\n",
    "# Process 'description' using TF-IDF (Ensure 523 fixed features)\n",
    "vectorizer = TfidfVectorizer(max_features=523)\n",
    "description_tfidf = vectorizer.fit_transform(df['description'].fillna(''))\n",
    "\n",
    "# Convert TF-IDF matrix to DataFrame and merge with main data\n",
    "description_df = pd.DataFrame(description_tfidf.toarray(), columns=[f'tfidf_{i}' for i in range(523)])\n",
    "df = pd.concat([df.drop(columns=['description']), description_df], axis=1)\n",
    "\n",
    "# Define features (X) and target labels (y)\n",
    "X = df.drop(columns=['AWS', 'Azure', 'GCP', 'Docker', 'Kubernetes', 'Terraform', 'DevOps'])\n",
    "y = df[['AWS', 'Azure', 'GCP', 'Docker', 'Kubernetes', 'Terraform', 'DevOps']]\n",
    "\n",
    "# Train-test split\n",
    "X_train, X_test, y_train, y_test = train_test_split(X, y, test_size=0.2, random_state=42)\n",
    "\n",
    "# Train XGBoost multi-label classifier\n",
    "xgb_model = MultiOutputClassifier(xgb.XGBClassifier(eval_metric='logloss'))\n",
    "xgb_model.fit(X_train, y_train)\n",
    "\n",
    "# Save trained models and encoders\n",
    "joblib.dump(xgb_model, \"xgboost_model.pkl\")\n",
    "joblib.dump(language_encoder, \"language_encoder.pkl\")\n",
    "joblib.dump(vectorizer, \"tfidf_vectorizer.pkl\")\n",
    "\n",
    "# Evaluate model performance\n",
    "y_pred = xgb_model.predict(X_test)\n",
    "\n",
    "# Classification report with zero division handling\n",
    "print(\"Model training complete. Saved as 'xgboost_model.pkl'\")\n",
    "print(\"Accuracy Score:\", xgb_model.score(X_test, y_test))\n",
    "print(\"F1 Score (Micro):\", f1_score(y_test, y_pred, average='micro'))\n",
    "print(\"Classification Report:\")\n",
    "print(classification_report(y_test, y_pred, target_names=y.columns, zero_division=1))"
   ]
  },
  {
   "cell_type": "code",
   "execution_count": 1,
   "id": "87e32533-4dbf-408c-9538-d4753ae151d7",
   "metadata": {},
   "outputs": [
    {
     "ename": "NameError",
     "evalue": "name 'xgb_model' is not defined",
     "output_type": "error",
     "traceback": [
      "\u001b[0;31m---------------------------------------------------------------------------\u001b[0m",
      "\u001b[0;31mNameError\u001b[0m                                 Traceback (most recent call last)",
      "Cell \u001b[0;32mIn[1], line 4\u001b[0m\n\u001b[1;32m      1\u001b[0m \u001b[38;5;28;01mfrom\u001b[39;00m\u001b[38;5;250m \u001b[39m\u001b[38;5;21;01msklearn\u001b[39;00m\u001b[38;5;21;01m.\u001b[39;00m\u001b[38;5;21;01mmetrics\u001b[39;00m\u001b[38;5;250m \u001b[39m\u001b[38;5;28;01mimport\u001b[39;00m accuracy_score, f1_score, classification_report\n\u001b[1;32m      3\u001b[0m \u001b[38;5;66;03m# Predict on the test set\u001b[39;00m\n\u001b[0;32m----> 4\u001b[0m y_pred \u001b[38;5;241m=\u001b[39m \u001b[43mxgb_model\u001b[49m\u001b[38;5;241m.\u001b[39mpredict(X_test)\n\u001b[1;32m      6\u001b[0m \u001b[38;5;66;03m# Evaluate accuracy (multi-label accuracy)\u001b[39;00m\n\u001b[1;32m      7\u001b[0m accuracy \u001b[38;5;241m=\u001b[39m accuracy_score(y_test, y_pred)\n",
      "\u001b[0;31mNameError\u001b[0m: name 'xgb_model' is not defined"
     ]
    }
   ],
   "source": [
    "from sklearn.metrics import accuracy_score, f1_score, classification_report\n",
    "\n",
    "# Predict on the test set\n",
    "y_pred = xgb_model.predict(X_test)\n",
    "\n",
    "# Evaluate accuracy (multi-label accuracy)\n",
    "accuracy = accuracy_score(y_test, y_pred)\n",
    "print(f\"Accuracy Score: {accuracy}\")\n",
    "\n",
    "# Evaluate F1 score (use 'micro' for multi-label classification)\n",
    "f1 = f1_score(y_test, y_pred, average='micro')\n",
    "print(f\"F1 Score (Micro): {f1}\")\n",
    "\n",
    "# You can also use classification report for detailed analysis\n",
    "print(\"Classification Report:\")\n",
    "print(classification_report(y_test, y_pred, target_names=y.columns))\n"
   ]
  },
  {
   "cell_type": "code",
   "execution_count": null,
   "id": "9a4a02a9-cc01-4dcb-a250-71132bc32d2a",
   "metadata": {},
   "outputs": [],
   "source": []
  }
 ],
 "metadata": {
  "kernelspec": {
   "display_name": "Python 3 (ipykernel)",
   "language": "python",
   "name": "python3"
  },
  "language_info": {
   "codemirror_mode": {
    "name": "ipython",
    "version": 3
   },
   "file_extension": ".py",
   "mimetype": "text/x-python",
   "name": "python",
   "nbconvert_exporter": "python",
   "pygments_lexer": "ipython3",
   "version": "3.10.12"
  }
 },
 "nbformat": 4,
 "nbformat_minor": 5
}
