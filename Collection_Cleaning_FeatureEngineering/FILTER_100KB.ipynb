{
 "cells": [
  {
   "cell_type": "code",
   "execution_count": 5,
   "id": "231ae8f5-5d77-49f9-8707-8f21857e5cd2",
   "metadata": {},
   "outputs": [
    {
     "name": "stdout",
     "output_type": "stream",
     "text": [
      "Total Rows Before: 384841\n",
      "Unique IDs Before: 384841\n",
      "Missing Values before:\n",
      "               Count  Percentage\n",
      "id                0    0.000000\n",
      "name              0    0.000000\n",
      "full_name         0    0.000000\n",
      "html_url          0    0.000000\n",
      "description  211313   54.909170\n",
      "created_at        0    0.000000\n",
      "size              0    0.000000\n",
      "language     125737   32.672454\n",
      "topics       359402   93.389738\n",
      "-----------------------------------------------------------------------------------\n"
     ]
    },
    {
     "name": "stderr",
     "output_type": "stream",
     "text": [
      "C:\\Users\\ajayp\\AppData\\Local\\Temp\\ipykernel_8916\\2510185639.py:32: FutureWarning: The default of observed=False is deprecated and will be changed to True in a future version of pandas. Pass observed=False to retain current behavior or observed=True to adopt the future default and silence this warning.\n",
      "  summary = df.groupby(\"size_bracket\").agg(\n"
     ]
    },
    {
     "name": "stdout",
     "output_type": "stream",
     "text": [
      "  size_bracket  total_repos  missing_description  missing_topics  \\\n",
      "0         0-10       139692            63.270624       97.353463   \n",
      "1        10-50        69982            50.161470       93.632648   \n",
      "2       50-100        31336            44.195175       92.867628   \n",
      "3      100-500        49298            50.020285       90.060449   \n",
      "4     500-1000        17289            52.096709       89.108682   \n",
      "5        1K-5K        35350            52.758133       89.442716   \n",
      "6       5K-10K        12703            53.837676       89.860663   \n",
      "7         10K+        29190            50.774238       88.872902   \n",
      "\n",
      "   missing_language  \n",
      "0         57.169344  \n",
      "1         22.041382  \n",
      "2         26.094588  \n",
      "3         12.600917  \n",
      "4         15.998612  \n",
      "5         18.016973  \n",
      "6         18.310635  \n",
      "7         15.758822  \n"
     ]
    }
   ],
   "source": [
    "import pandas as pd\n",
    "import re\n",
    "\n",
    "# Load dataset\n",
    "df = pd.read_csv(\"github_repos_removed_duplicates.csv\")\n",
    "\n",
    "# Count total rows\n",
    "total_rows = df.shape[0]\n",
    "\n",
    "# Count unique IDs\n",
    "unique_ids = df[\"id\"].nunique()\n",
    "\n",
    "print(f\"Total Rows Before: {total_rows}\")\n",
    "print(f\"Unique IDs Before: {unique_ids}\")\n",
    "\n",
    "# Check missing values with percentages\n",
    "missing_values_percent = (df.isnull().sum() / len(df)) * 100\n",
    "\n",
    "print(\"Missing Values before:\\n\", \n",
    "      pd.concat([df.isnull().sum(), missing_values_percent], axis=1, keys=['Count', 'Percentage']))\n",
    "\n",
    "print(\"-----------------------------------------------------------------------------------\")\n",
    "\n",
    "# Define size brackets (in KB)\n",
    "bins = [0, 10, 50, 100, 500, 1000, 5000, 10000, df[\"size\"].max()]\n",
    "labels = [\"0-10\", \"10-50\", \"50-100\", \"100-500\", \"500-1000\", \"1K-5K\", \"5K-10K\", \"10K+\"]\n",
    "\n",
    "# Create a new column for size brackets\n",
    "df[\"size_bracket\"] = pd.cut(df[\"size\"], bins=bins, labels=labels, right=False)\n",
    "\n",
    "# Group by size bracket and calculate statistics\n",
    "summary = df.groupby(\"size_bracket\").agg(\n",
    "    total_repos=(\"id\", \"count\"),\n",
    "    missing_description=(\"description\", lambda x: x.isna().mean() * 100),\n",
    "    missing_topics=(\"topics\", lambda x: x.isna().mean() * 100),\n",
    "    missing_language=(\"language\", lambda x: x.isna().mean() * 100),\n",
    ").reset_index()\n",
    "\n",
    "# Print summary\n",
    "print(summary)\n",
    "\n",
    "# Remove repositories smaller than 100 KB\n",
    "df = df[df[\"size\"] >= 100]\n",
    "\n",
    "# Save the filtered dataset\n",
    "df.to_csv(\"github_repos_over_100kb.csv\", index=False)\n"
   ]
  },
  {
   "cell_type": "code",
   "execution_count": null,
   "id": "8c5e008f-9bb4-4265-8608-484ba7f47238",
   "metadata": {},
   "outputs": [],
   "source": []
  },
  {
   "cell_type": "code",
   "execution_count": null,
   "id": "2a4c488f-fb5f-483a-a190-637d93425609",
   "metadata": {},
   "outputs": [],
   "source": []
  }
 ],
 "metadata": {
  "kernelspec": {
   "display_name": "Python 3 (ipykernel)",
   "language": "python",
   "name": "python3"
  },
  "language_info": {
   "codemirror_mode": {
    "name": "ipython",
    "version": 3
   },
   "file_extension": ".py",
   "mimetype": "text/x-python",
   "name": "python",
   "nbconvert_exporter": "python",
   "pygments_lexer": "ipython3",
   "version": "3.13.0"
  }
 },
 "nbformat": 4,
 "nbformat_minor": 5
}
