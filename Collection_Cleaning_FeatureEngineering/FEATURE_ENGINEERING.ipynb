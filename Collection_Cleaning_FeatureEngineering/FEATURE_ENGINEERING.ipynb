{
 "cells": [
  {
   "cell_type": "code",
   "execution_count": 1,
   "id": "2a4c488f-fb5f-483a-a190-637d93425609",
   "metadata": {},
   "outputs": [
    {
     "name": "stdout",
     "output_type": "stream",
     "text": [
      "Feature engineering completed successfully!\n"
     ]
    }
   ],
   "source": [
    "import pandas as pd\n",
    "\n",
    "# Load the dataset\n",
    "file_path = \"github_repos_cleaned.csv\"\n",
    "df = pd.read_csv(file_path)\n",
    "\n",
    "# 1. Create binary columns for Cloud Platforms & Technologies\n",
    "keyword_groups = {\n",
    "    \"AWS\": [\"aws\", \"amazon\", \"amazonaws\", \"amazone\", \"amazons\"],\n",
    "    \"Azure\": [\"azure\", \"microsoft\"],\n",
    "    \"GCP\": [\"gcp\", \"google\", \"googlecloud\"],\n",
    "    \"Docker\": [\"docker\", \"dockers\"],\n",
    "    \"Kubernetes\": [\"kubernetes\", \"k8s\"],\n",
    "    \"Terraform\": [\"terraform\", \"terraforms\"],\n",
    "    \"DevOps\": [\"devops\", \"cicd\", \"jenkins\"],\n",
    "}\n",
    "\n",
    "# Convert description to lowercase to ensure case-insensitive matching\n",
    "df[\"description\"] = df[\"description\"].astype(str).str.lower()\n",
    "\n",
    "# Assign 1 if any keyword is found in description, else 0\n",
    "for column, keywords in keyword_groups.items():\n",
    "    df[column] = df[\"description\"].apply(lambda x: 1 if any(word in x for word in keywords) else 0)\n",
    "\n",
    "# 2. Create binary columns for selected programming languages\n",
    "top_languages = [\n",
    "    \"JavaScript\", \"Python\", \"TypeScript\", \"Jupyter Notebook\", \"Java\", \"C#\",\n",
    "    \"Go\", \"PHP\", \"C++\", \"Vue\", \"Bicep\", \"Kotlin\", \"Dart\", \"Rust\", \"C\", \"Ruby\"\n",
    "]\n",
    "\n",
    "# Assign 1 if language matches, else 0\n",
    "for lang in top_languages:\n",
    "    df[lang] = (df[\"language\"] == lang).astype(int)\n",
    "\n",
    "# 3. Extract time-based features\n",
    "df[\"created_at\"] = pd.to_datetime(df[\"created_at\"], format=\"%d-%m-%Y\")\n",
    "df[\"year\"] = df[\"created_at\"].dt.year\n",
    "df[\"month\"] = df[\"created_at\"].dt.month\n",
    "df[\"day\"] = df[\"created_at\"].dt.day\n",
    "df[\"week\"] = df[\"created_at\"].dt.isocalendar().week\n",
    "\n",
    "# 4. Add 'is_cloud_project' column\n",
    "df[\"is_cloud_project\"] = 1\n",
    "\n",
    "# Save the updated dataset\n",
    "df.to_csv(\"github_repos_feature_engineered.csv\", index=False)\n",
    "\n",
    "print(\"Feature engineering completed successfully!\")\n"
   ]
  },
  {
   "cell_type": "code",
   "execution_count": null,
   "id": "d621f750-f6c2-420d-a791-92262ea75ad5",
   "metadata": {},
   "outputs": [],
   "source": []
  }
 ],
 "metadata": {
  "kernelspec": {
   "display_name": "Python 3 (ipykernel)",
   "language": "python",
   "name": "python3"
  },
  "language_info": {
   "codemirror_mode": {
    "name": "ipython",
    "version": 3
   },
   "file_extension": ".py",
   "mimetype": "text/x-python",
   "name": "python",
   "nbconvert_exporter": "python",
   "pygments_lexer": "ipython3",
   "version": "3.13.0"
  }
 },
 "nbformat": 4,
 "nbformat_minor": 5
}
