{
 "cells": [
  {
   "cell_type": "code",
   "execution_count": 11,
   "id": "2a4c488f-fb5f-483a-a190-637d93425609",
   "metadata": {},
   "outputs": [],
   "source": [
    "import pandas as pd\n",
    "\n",
    "# Load CSV\n",
    "df = pd.read_csv(\"github_repos_filled_descriptions.csv\")\n",
    "\n",
    "# Keywords to search for\n",
    "keywords = {\"aws\", \"azure\", \"terraform\", \"google\", \"gcp\", \"docker\", \"amazon\",\n",
    "            \"devops\", \"kubernetes\", \"microsoft\", \"jenkins\", \"cloud\"}\n",
    "\n",
    "# Function to extract keywords\n",
    "def extract_keywords(text):\n",
    "    if pd.isna(text):  # Skip NaN values\n",
    "        return set()\n",
    "    words = set(text.lower().split())  # Convert text to lowercase and split\n",
    "    return keywords.intersection(words)\n",
    "\n",
    "# Process only rows where description is missing\n",
    "for index, row in df[df[\"description\"].isna()].iterrows():\n",
    "    matched_keywords = set()\n",
    "    \n",
    "    matched_keywords.update(extract_keywords(row[\"name\"]))\n",
    "    matched_keywords.update(extract_keywords(row[\"full_name\"]))\n",
    "    matched_keywords.update(extract_keywords(row[\"topics\"]))\n",
    "\n",
    "    # Update description if any keywords were found\n",
    "    if matched_keywords:\n",
    "        df.at[index, \"description\"] = \", \".join(sorted(matched_keywords))\n",
    "\n",
    "# Save the updated CSV\n",
    "df.to_csv(\"github_repos_updated_descriptions.csv\", index=False)\n"
   ]
  },
  {
   "cell_type": "code",
   "execution_count": null,
   "id": "d621f750-f6c2-420d-a791-92262ea75ad5",
   "metadata": {},
   "outputs": [],
   "source": []
  }
 ],
 "metadata": {
  "kernelspec": {
   "display_name": "Python 3 (ipykernel)",
   "language": "python",
   "name": "python3"
  },
  "language_info": {
   "codemirror_mode": {
    "name": "ipython",
    "version": 3
   },
   "file_extension": ".py",
   "mimetype": "text/x-python",
   "name": "python",
   "nbconvert_exporter": "python",
   "pygments_lexer": "ipython3",
   "version": "3.13.0"
  }
 },
 "nbformat": 4,
 "nbformat_minor": 5
}
