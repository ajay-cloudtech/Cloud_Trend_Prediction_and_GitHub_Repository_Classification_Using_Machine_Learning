{
 "cells": [
  {
   "cell_type": "code",
   "execution_count": 7,
   "id": "231ae8f5-5d77-49f9-8707-8f21857e5cd2",
   "metadata": {},
   "outputs": [
    {
     "name": "stdout",
     "output_type": "stream",
     "text": [
      "Total Rows Before: 143831\n",
      "Unique IDs Before: 143831\n",
      "Missing Values before:\n",
      "                Count  Percentage\n",
      "id                 0    0.000000\n",
      "name               0    0.000000\n",
      "full_name          0    0.000000\n",
      "html_url           0    0.000000\n",
      "description    73976   51.432584\n",
      "created_at         0    0.000000\n",
      "size               0    0.000000\n",
      "language       22274   15.486230\n",
      "topics        128780   89.535636\n",
      "size_bracket       1    0.000695\n",
      "-----------------------------------------------------------------------------------\n"
     ]
    }
   ],
   "source": [
    "import pandas as pd\n",
    "\n",
    "# Load dataset\n",
    "df = pd.read_csv(\"github_repos_over_100kb.csv\") \n",
    "\n",
    "# Count total rows before filtering\n",
    "print(f\"Total Rows Before: {df.shape[0]}\")\n",
    "print(f\"Unique IDs Before: {df['id'].nunique()}\")\n",
    "\n",
    "# Check missing values with percentages\n",
    "missing_values_percent = (df.isnull().sum() / len(df)) * 100\n",
    "print(\"Missing Values before:\\n\", \n",
    "      pd.concat([df.isnull().sum(), missing_values_percent], axis=1, keys=['Count', 'Percentage']))\n",
    "print(\"-----------------------------------------------------------------------------------\")\n",
    "\n",
    "# Remove rows where 'language' is missing\n",
    "df = df.dropna(subset=[\"language\"])\n",
    "\n",
    "# Save the filtered dataset\n",
    "df.to_csv(\"github_repos_filtered_language.csv\", index=False)\n",
    "\n"
   ]
  },
  {
   "cell_type": "code",
   "execution_count": null,
   "id": "8c5e008f-9bb4-4265-8608-484ba7f47238",
   "metadata": {},
   "outputs": [],
   "source": []
  },
  {
   "cell_type": "code",
   "execution_count": null,
   "id": "2a4c488f-fb5f-483a-a190-637d93425609",
   "metadata": {},
   "outputs": [],
   "source": []
  }
 ],
 "metadata": {
  "kernelspec": {
   "display_name": "Python 3 (ipykernel)",
   "language": "python",
   "name": "python3"
  },
  "language_info": {
   "codemirror_mode": {
    "name": "ipython",
    "version": 3
   },
   "file_extension": ".py",
   "mimetype": "text/x-python",
   "name": "python",
   "nbconvert_exporter": "python",
   "pygments_lexer": "ipython3",
   "version": "3.13.0"
  }
 },
 "nbformat": 4,
 "nbformat_minor": 5
}
