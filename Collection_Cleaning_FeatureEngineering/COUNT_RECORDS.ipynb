{
 "cells": [
  {
   "cell_type": "code",
   "execution_count": null,
   "id": "45777fdc-423d-4714-a588-00ae13cd14d1",
   "metadata": {},
   "outputs": [
    {
     "name": "stdout",
     "output_type": "stream",
     "text": [
      "🔍 Total matching repositories: 19653\n"
     ]
    }
   ],
   "source": [
    "import requests\n",
    "\n",
    "# Set your GitHub Token\n",
    "GITHUB_TOKEN = \"placeholder\"\n",
    "HEADERS = {\"Authorization\": f\"token {GITHUB_TOKEN}\"}\n",
    "\n",
    "# Search Query\n",
    "SEARCH_QUERY = \"cloud OR aws OR gcp OR azure created:2023-01-01..2023-01-31\"\n",
    "\n",
    "# Base URL for GitHub API\n",
    "BASE_URL = \"https://api.github.com/search/repositories\"\n",
    "\n",
    "# Get total count of repositories matching the search\n",
    "response = requests.get(f\"{BASE_URL}?q={SEARCH_QUERY}\", headers=HEADERS)\n",
    "data = response.json()\n",
    "\n",
    "if \"total_count\" in data:\n",
    "    total_repos = data[\"total_count\"]\n",
    "    print(f\"Total matching repositories: {total_repos}\")\n",
    "else:\n",
    "    print(\"⚠ Error fetching repository count:\", data)"
   ]
  },
  {
   "cell_type": "code",
   "execution_count": null,
   "id": "00671f71-f7f1-4757-8b94-a6859f76881e",
   "metadata": {},
   "outputs": [],
   "source": []
  }
 ],
 "metadata": {
  "kernelspec": {
   "display_name": "Python 3 (ipykernel)",
   "language": "python",
   "name": "python3"
  },
  "language_info": {
   "codemirror_mode": {
    "name": "ipython",
    "version": 3
   },
   "file_extension": ".py",
   "mimetype": "text/x-python",
   "name": "python",
   "nbconvert_exporter": "python",
   "pygments_lexer": "ipython3",
   "version": "3.13.0"
  }
 },
 "nbformat": 4,
 "nbformat_minor": 5
}
