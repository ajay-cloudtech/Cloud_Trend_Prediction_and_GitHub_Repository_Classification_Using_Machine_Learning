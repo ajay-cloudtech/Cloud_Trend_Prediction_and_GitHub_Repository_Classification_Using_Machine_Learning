{
 "cells": [
  {
   "cell_type": "code",
   "execution_count": 2,
   "id": "2a4c488f-fb5f-483a-a190-637d93425609",
   "metadata": {},
   "outputs": [
    {
     "name": "stdout",
     "output_type": "stream",
     "text": [
      "<class 'pandas.core.frame.DataFrame'>\n",
      "RangeIndex: 121557 entries, 0 to 121556\n",
      "Data columns (total 36 columns):\n",
      " #   Column            Non-Null Count   Dtype \n",
      "---  ------            --------------   ----- \n",
      " 0   id                121557 non-null  int64 \n",
      " 1   name              121557 non-null  object\n",
      " 2   full_name         121557 non-null  object\n",
      " 3   html_url          121557 non-null  object\n",
      " 4   description       121557 non-null  object\n",
      " 5   created_at        121557 non-null  object\n",
      " 6   size              121557 non-null  int64 \n",
      " 7   language          121557 non-null  object\n",
      " 8   AWS               121557 non-null  int64 \n",
      " 9   Azure             121557 non-null  int64 \n",
      " 10  GCP               121557 non-null  int64 \n",
      " 11  Docker            121557 non-null  int64 \n",
      " 12  Kubernetes        121557 non-null  int64 \n",
      " 13  Terraform         121557 non-null  int64 \n",
      " 14  DevOps            121557 non-null  int64 \n",
      " 15  JavaScript        121557 non-null  int64 \n",
      " 16  Python            121557 non-null  int64 \n",
      " 17  TypeScript        121557 non-null  int64 \n",
      " 18  Jupyter Notebook  121557 non-null  int64 \n",
      " 19  Java              121557 non-null  int64 \n",
      " 20  C#                121557 non-null  int64 \n",
      " 21  Go                121557 non-null  int64 \n",
      " 22  PHP               121557 non-null  int64 \n",
      " 23  C++               121557 non-null  int64 \n",
      " 24  Vue               121557 non-null  int64 \n",
      " 25  Bicep             121557 non-null  int64 \n",
      " 26  Kotlin            121557 non-null  int64 \n",
      " 27  Dart              121557 non-null  int64 \n",
      " 28  Rust              121557 non-null  int64 \n",
      " 29  C                 121557 non-null  int64 \n",
      " 30  Ruby              121557 non-null  int64 \n",
      " 31  year              121557 non-null  int64 \n",
      " 32  month             121557 non-null  int64 \n",
      " 33  day               121557 non-null  int64 \n",
      " 34  week              121557 non-null  int64 \n",
      " 35  is_cloud_project  121557 non-null  int64 \n",
      "dtypes: int64(30), object(6)\n",
      "memory usage: 33.4+ MB\n"
     ]
    },
    {
     "data": {
      "text/plain": [
       "id                  0\n",
       "name                0\n",
       "full_name           0\n",
       "html_url            0\n",
       "description         0\n",
       "created_at          0\n",
       "size                0\n",
       "language            0\n",
       "AWS                 0\n",
       "Azure               0\n",
       "GCP                 0\n",
       "Docker              0\n",
       "Kubernetes          0\n",
       "Terraform           0\n",
       "DevOps              0\n",
       "JavaScript          0\n",
       "Python              0\n",
       "TypeScript          0\n",
       "Jupyter Notebook    0\n",
       "Java                0\n",
       "C#                  0\n",
       "Go                  0\n",
       "PHP                 0\n",
       "C++                 0\n",
       "Vue                 0\n",
       "Bicep               0\n",
       "Kotlin              0\n",
       "Dart                0\n",
       "Rust                0\n",
       "C                   0\n",
       "Ruby                0\n",
       "year                0\n",
       "month               0\n",
       "day                 0\n",
       "week                0\n",
       "is_cloud_project    0\n",
       "dtype: int64"
      ]
     },
     "execution_count": 2,
     "metadata": {},
     "output_type": "execute_result"
    }
   ],
   "source": [
    "import pandas as pd\n",
    "\n",
    "# Load data\n",
    "file_path = \"github_repos_feature_engineered.csv\"\n",
    "df = pd.read_csv(file_path)\n",
    "\n",
    "# Basic info about dataset\n",
    "df.info()\n",
    "\n",
    "# Summary statistics (numerical columns)\n",
    "df.describe()\n",
    "\n",
    "# Check missing values\n",
    "df.isnull().sum()\n"
   ]
  },
  {
   "cell_type": "code",
   "execution_count": null,
   "id": "d621f750-f6c2-420d-a791-92262ea75ad5",
   "metadata": {},
   "outputs": [],
   "source": []
  }
 ],
 "metadata": {
  "kernelspec": {
   "display_name": "Python 3 (ipykernel)",
   "language": "python",
   "name": "python3"
  },
  "language_info": {
   "codemirror_mode": {
    "name": "ipython",
    "version": 3
   },
   "file_extension": ".py",
   "mimetype": "text/x-python",
   "name": "python",
   "nbconvert_exporter": "python",
   "pygments_lexer": "ipython3",
   "version": "3.13.0"
  }
 },
 "nbformat": 4,
 "nbformat_minor": 5
}
