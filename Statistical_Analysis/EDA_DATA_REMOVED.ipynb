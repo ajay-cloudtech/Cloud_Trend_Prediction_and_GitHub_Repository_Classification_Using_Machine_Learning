{
 "cells": [
  {
   "cell_type": "code",
   "execution_count": 1,
   "id": "59c7df97-5062-4ac5-bf25-53b7e18e4365",
   "metadata": {
    "scrolled": true
   },
   "outputs": [
    {
     "name": "stdout",
     "output_type": "stream",
     "text": [
      "            Raw Projects  Cleaned Projects  Removed Projects     Drop %\n",
      "year_month                                                             \n",
      "2023-01            29640              5676             23964  80.850202\n",
      "2023-02            26999              5246             21753  80.569651\n",
      "2023-03            29999              5508             24491  81.639388\n",
      "2023-04            28971              5325             23646  81.619551\n",
      "2023-05            29999              5516             24483  81.612720\n",
      "2023-06            28975              5124             23851  82.315789\n",
      "2023-07            29878              5031             24847  83.161524\n",
      "2023-08            29962              4991             24971  83.342233\n",
      "2023-09            28999              5051             23948  82.582158\n",
      "2023-10            29999              5120             24879  82.932764\n",
      "2023-11            28999              5521             23478  80.961412\n",
      "2023-12            29494              5646             23848  80.857123\n",
      "2024-01            29993              5212             24781  82.622612\n",
      "2024-02            27995              4472             23523  84.025719\n",
      "2024-03            29991              5089             24902  83.031576\n",
      "2024-04            28987              4936             24051  82.971677\n",
      "2024-05            29999              5028             24971  83.239441\n",
      "2024-06            28999              4903             24096  83.092520\n",
      "2024-07            29999              4945             25054  83.516117\n",
      "2024-08            29999              4869             25130  83.769459\n",
      "2024-09            28999              4286             24713  85.220180\n",
      "2024-10            29999              4661             25338  84.462815\n",
      "2024-11            28999              4674             24325  83.882203\n",
      "2024-12            29999              4727             25272  84.242808\n",
      "\n",
      "Yearly Stats:\n",
      "      Raw Projects  Cleaned Projects  Removed Projects     Drop %\n",
      "year                                                             \n",
      "2023        351914             63755            288159  81.883358\n",
      "2024        353958             57802            296156  83.669814\n"
     ]
    },
    {
     "name": "stderr",
     "output_type": "stream",
     "text": [
      "C:\\Users\\ajayp\\AppData\\Local\\Temp\\ipykernel_4236\\1357890561.py:12: UserWarning: Converting to PeriodArray/Index representation will drop timezone information.\n",
      "  raw_df[\"year_month\"] = raw_df[\"created_at\"].dt.to_period(\"M\")\n"
     ]
    }
   ],
   "source": [
    "import pandas as pd\n",
    "\n",
    "# Load raw and cleaned data\n",
    "raw_df = pd.read_csv(\"github_repos_merged.csv\")\n",
    "cleaned_df = pd.read_csv(\"github_repos_feature_engineered.csv\")  # Replace with actual cleaned file path\n",
    "\n",
    "# Convert created_at to datetime\n",
    "raw_df[\"created_at\"] = pd.to_datetime(raw_df[\"created_at\"])\n",
    "cleaned_df[\"created_at\"] = pd.to_datetime(cleaned_df[\"created_at\"])\n",
    "\n",
    "# Extract year-month and year\n",
    "raw_df[\"year_month\"] = raw_df[\"created_at\"].dt.to_period(\"M\")\n",
    "cleaned_df[\"year_month\"] = cleaned_df[\"created_at\"].dt.to_period(\"M\")\n",
    "raw_df[\"year\"] = raw_df[\"created_at\"].dt.year\n",
    "cleaned_df[\"year\"] = cleaned_df[\"created_at\"].dt.year\n",
    "\n",
    "# Count projects per month before and after cleaning\n",
    "raw_counts = raw_df.groupby(\"year_month\")[\"id\"].count()\n",
    "cleaned_counts = cleaned_df.groupby(\"year_month\")[\"id\"].count()\n",
    "\n",
    "# Calculate removed projects per month and drop percentage\n",
    "removed_counts = raw_counts - cleaned_counts\n",
    "drop_percentage = (removed_counts / raw_counts) * 100\n",
    "\n",
    "# Combine into a single DataFrame\n",
    "removed_df = pd.DataFrame({\n",
    "    \"Raw Projects\": raw_counts,\n",
    "    \"Cleaned Projects\": cleaned_counts,\n",
    "    \"Removed Projects\": removed_counts,\n",
    "    \"Drop %\": drop_percentage\n",
    "})\n",
    "\n",
    "print(removed_df)\n",
    "\n",
    "# Yearly aggregation\n",
    "raw_yearly = raw_df.groupby(\"year\")[\"id\"].count()\n",
    "cleaned_yearly = cleaned_df.groupby(\"year\")[\"id\"].count()\n",
    "removed_yearly = raw_yearly - cleaned_yearly\n",
    "drop_percentage_yearly = (removed_yearly / raw_yearly) * 100\n",
    "\n",
    "yearly_df = pd.DataFrame({\n",
    "    \"Raw Projects\": raw_yearly,\n",
    "    \"Cleaned Projects\": cleaned_yearly,\n",
    "    \"Removed Projects\": removed_yearly,\n",
    "    \"Drop %\": drop_percentage_yearly\n",
    "})\n",
    "\n",
    "print(\"\\nYearly Stats:\")\n",
    "print(yearly_df)\n"
   ]
  },
  {
   "cell_type": "code",
   "execution_count": null,
   "id": "13c33aa2-7c30-479b-9c39-1cd89a99ecdf",
   "metadata": {},
   "outputs": [],
   "source": []
  },
  {
   "cell_type": "code",
   "execution_count": null,
   "id": "df868ef3-ef43-49a3-a45d-512a76d69e8d",
   "metadata": {},
   "outputs": [],
   "source": []
  }
 ],
 "metadata": {
  "kernelspec": {
   "display_name": "Python 3 (ipykernel)",
   "language": "python",
   "name": "python3"
  },
  "language_info": {
   "codemirror_mode": {
    "name": "ipython",
    "version": 3
   },
   "file_extension": ".py",
   "mimetype": "text/x-python",
   "name": "python",
   "nbconvert_exporter": "python",
   "pygments_lexer": "ipython3",
   "version": "3.13.0"
  }
 },
 "nbformat": 4,
 "nbformat_minor": 5
}
